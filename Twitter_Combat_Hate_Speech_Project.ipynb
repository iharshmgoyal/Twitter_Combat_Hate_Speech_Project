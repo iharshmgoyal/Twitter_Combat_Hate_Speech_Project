{
  "nbformat": 4,
  "nbformat_minor": 0,
  "metadata": {
    "colab": {
      "name": "Twitter_Combat_Hate_Speech_Project.ipynb",
      "provenance": [],
      "collapsed_sections": [],
      "authorship_tag": "ABX9TyOmjhTs0Iohi2BEJwOiaVUS",
      "include_colab_link": true
    },
    "kernelspec": {
      "name": "python3",
      "display_name": "Python 3"
    },
    "language_info": {
      "name": "python"
    }
  },
  "cells": [
    {
      "cell_type": "markdown",
      "metadata": {
        "id": "view-in-github",
        "colab_type": "text"
      },
      "source": [
        "<a href=\"https://colab.research.google.com/github/iharshmgoyal/Twitter_Combat_Hate_Speech_Project/blob/main/Twitter_Combat_Hate_Speech_Project.ipynb\" target=\"_parent\"><img src=\"https://colab.research.google.com/assets/colab-badge.svg\" alt=\"Open In Colab\"/></a>"
      ]
    },
    {
      "cell_type": "code",
      "metadata": {
        "colab": {
          "base_uri": "https://localhost:8080/"
        },
        "id": "cqrLSm0HLuL2",
        "outputId": "c861ca89-3622-453b-d0a8-70df4552520a"
      },
      "source": [
        "# Importing Libraries\n",
        "\n",
        "import pandas as pd\n",
        "import numpy as np\n",
        "import re\n",
        "import nltk\n",
        "from nltk.tokenize import TweetTokenizer, word_tokenize\n",
        "from nltk.corpus import stopwords\n",
        "import string\n",
        "from string import punctuation\n",
        "import itertools # Helps to convert all lists into one single big list.\n",
        "import unidecode # Helps in Removing unicode characters from tweets.\n",
        "from collections import Counter\n",
        "from sklearn.model_selection import train_test_split\n",
        "from sklearn.feature_extraction.text import TfidfVectorizer\n",
        "from sklearn.pipeline import Pipeline\n",
        "from sklearn.metrics import classification_report\n",
        "from sklearn.metrics import confusion_matrix\n",
        "from sklearn.ensemble import RandomForestClassifier\n",
        "from sklearn.linear_model import LogisticRegression\n",
        "from sklearn.metrics import f1_score, roc_auc_score, roc_curve, accuracy_score, precision_score, recall_score\n",
        "import matplotlib.pyplot as plt\n",
        "from sklearn.model_selection import GridSearchCV, StratifiedKFold\n",
        "from sklearn.model_selection import cross_val_score\n",
        "\n",
        "nltk.download('stopwords')\n",
        "stop_words = stopwords.words('english')\n",
        "tk = TweetTokenizer()\n",
        "counter = Counter()"
      ],
      "execution_count": 1,
      "outputs": [
        {
          "output_type": "stream",
          "name": "stdout",
          "text": [
            "[nltk_data] Downloading package stopwords to /root/nltk_data...\n",
            "[nltk_data]   Package stopwords is already up-to-date!\n"
          ]
        }
      ]
    },
    {
      "cell_type": "markdown",
      "metadata": {
        "id": "tYHPsFoDnwK1"
      },
      "source": [
        "1. Load the tweets file using read_csv function from Pandas package."
      ]
    },
    {
      "cell_type": "code",
      "metadata": {
        "id": "XLVX7YtHMOF1"
      },
      "source": [
        "data = pd.read_csv('Twitter.csv')"
      ],
      "execution_count": 2,
      "outputs": []
    },
    {
      "cell_type": "code",
      "metadata": {
        "id": "v8NfcUm9QewC"
      },
      "source": [
        "data['tweet'] = data['tweet'].apply(lambda x : ' '.join([unidecode.unidecode(word) for word in x.split()]))"
      ],
      "execution_count": 3,
      "outputs": []
    },
    {
      "cell_type": "code",
      "metadata": {
        "colab": {
          "base_uri": "https://localhost:8080/",
          "height": 206
        },
        "id": "hTAju_qwMKcU",
        "outputId": "c2d52049-c096-47a5-a80b-7ac6841629fa"
      },
      "source": [
        "data.head()"
      ],
      "execution_count": 4,
      "outputs": [
        {
          "output_type": "execute_result",
          "data": {
            "text/html": [
              "<div>\n",
              "<style scoped>\n",
              "    .dataframe tbody tr th:only-of-type {\n",
              "        vertical-align: middle;\n",
              "    }\n",
              "\n",
              "    .dataframe tbody tr th {\n",
              "        vertical-align: top;\n",
              "    }\n",
              "\n",
              "    .dataframe thead th {\n",
              "        text-align: right;\n",
              "    }\n",
              "</style>\n",
              "<table border=\"1\" class=\"dataframe\">\n",
              "  <thead>\n",
              "    <tr style=\"text-align: right;\">\n",
              "      <th></th>\n",
              "      <th>id</th>\n",
              "      <th>label</th>\n",
              "      <th>tweet</th>\n",
              "    </tr>\n",
              "  </thead>\n",
              "  <tbody>\n",
              "    <tr>\n",
              "      <th>0</th>\n",
              "      <td>1</td>\n",
              "      <td>0</td>\n",
              "      <td>@user when a father is dysfunctional and is so...</td>\n",
              "    </tr>\n",
              "    <tr>\n",
              "      <th>1</th>\n",
              "      <td>2</td>\n",
              "      <td>0</td>\n",
              "      <td>@user @user thanks for #lyft credit i can't us...</td>\n",
              "    </tr>\n",
              "    <tr>\n",
              "      <th>2</th>\n",
              "      <td>3</td>\n",
              "      <td>0</td>\n",
              "      <td>bihday your majesty</td>\n",
              "    </tr>\n",
              "    <tr>\n",
              "      <th>3</th>\n",
              "      <td>4</td>\n",
              "      <td>0</td>\n",
              "      <td>#model i love u take with u all the time in ur...</td>\n",
              "    </tr>\n",
              "    <tr>\n",
              "      <th>4</th>\n",
              "      <td>5</td>\n",
              "      <td>0</td>\n",
              "      <td>factsguide: society now #motivation</td>\n",
              "    </tr>\n",
              "  </tbody>\n",
              "</table>\n",
              "</div>"
            ],
            "text/plain": [
              "   id  label                                              tweet\n",
              "0   1      0  @user when a father is dysfunctional and is so...\n",
              "1   2      0  @user @user thanks for #lyft credit i can't us...\n",
              "2   3      0                                bihday your majesty\n",
              "3   4      0  #model i love u take with u all the time in ur...\n",
              "4   5      0                factsguide: society now #motivation"
            ]
          },
          "metadata": {},
          "execution_count": 4
        }
      ]
    },
    {
      "cell_type": "code",
      "metadata": {
        "colab": {
          "base_uri": "https://localhost:8080/"
        },
        "id": "soL6iYWOsmJN",
        "outputId": "9c27bacb-bd5a-4379-c190-9b7793d0dad1"
      },
      "source": [
        "data.shape"
      ],
      "execution_count": 5,
      "outputs": [
        {
          "output_type": "execute_result",
          "data": {
            "text/plain": [
              "(31962, 3)"
            ]
          },
          "metadata": {},
          "execution_count": 5
        }
      ]
    },
    {
      "cell_type": "markdown",
      "metadata": {
        "id": "odvFSUfjn7eY"
      },
      "source": [
        "2. Get the tweets into a list for easy text cleanup and manipulation."
      ]
    },
    {
      "cell_type": "code",
      "metadata": {
        "colab": {
          "base_uri": "https://localhost:8080/"
        },
        "id": "RF7rmLY6Mf9m",
        "outputId": "e315d976-7497-4c02-f361-73d21af0e354"
      },
      "source": [
        "tweets = list(data['tweet'].values)\n",
        "print(type(tweets))\n",
        "tweets[:10]"
      ],
      "execution_count": 6,
      "outputs": [
        {
          "output_type": "stream",
          "name": "stdout",
          "text": [
            "<class 'list'>\n"
          ]
        },
        {
          "output_type": "execute_result",
          "data": {
            "text/plain": [
              "['@user when a father is dysfunctional and is so selfish he drags his kids into his dysfunction. #run',\n",
              " \"@user @user thanks for #lyft credit i can't use cause they don't offer wheelchair vans in pdx. #disapointed #getthanked\",\n",
              " 'bihday your majesty',\n",
              " '#model i love u take with u all the time in urd+-!!! dddd d|d|d|',\n",
              " 'factsguide: society now #motivation',\n",
              " '[2/2] huge fan fare and big talking before they leave. chaos and pay disputes when they get there. #allshowandnogo',\n",
              " '@user camping tomorrow @user @user @user @user @user @user @user dannya|',\n",
              " \"the next school year is the year for exams.d- can't think about that d #school #exams #hate #imagine #actorslife #revolutionschool #girl\",\n",
              " 'we won!!! love the land!!! #allin #cavs #champions #cleveland #clevelandcavaliers a|',\n",
              " \"@user @user welcome here ! i'm it's so #gr8 !\"]"
            ]
          },
          "metadata": {},
          "execution_count": 6
        }
      ]
    },
    {
      "cell_type": "markdown",
      "metadata": {
        "id": "_R7xFJJZoLEo"
      },
      "source": [
        "3. To cleanup: \n",
        "\n",
        "- Normalize the casing.\n",
        "- Using regular expressions, remove user handles. These begin with '@’.\n",
        "- Using regular expressions, remove URLs.\n",
        "- Using TweetTokenizer from NLTK, tokenize the tweets into individual terms.\n",
        "- Remove stop words.\n",
        "- Remove redundant terms like ‘amp’, ‘rt’, etc.\n",
        "- Remove ‘#’ symbols from the tweet while retaining the term.\n",
        "\n",
        "4. Extra cleanup by removing terms with a length of 1."
      ]
    },
    {
      "cell_type": "code",
      "metadata": {
        "id": "3QcPE1GsOXR7"
      },
      "source": [
        "for i in range(len(tweets)):\n",
        "    tweets[i] = tweets[i].lower()\n",
        "    tweets[i] = re.sub('@', '', tweets[i])\n",
        "    tweets[i] = re.sub('@user', '', tweets[i])\n",
        "    tweets[i] = re.sub('rt', '', tweets[i])\n",
        "    tweets[i] = re.sub('amp', '', tweets[i])\n",
        "    tweets[i] = re.sub('#', '', tweets[i])\n",
        "    tweets[i] = re.sub('user', '', tweets[i])\n",
        "    tweets[i] = re.sub('\\...', '', tweets[i])\n",
        "    tweets[i] = re.sub('\\d*', '', tweets[i])\n",
        "    tweets[i] = re.sub('h(m)+', '', tweets[i])\n",
        "    tweets[i] = re.sub(r'\\b\\w{1,2}\\b', '', tweets[i])\n",
        "    tweets[i] = tk.tokenize(tweets[i])"
      ],
      "execution_count": 7,
      "outputs": []
    },
    {
      "cell_type": "code",
      "metadata": {
        "id": "iRbkVe6VOxgY"
      },
      "source": [
        "to_change = {'luv':'love','wud':'would','lyk':'like','wateva':'whatever','ttyl':'talk to you later',\n",
        "               'kul':'cool','fyn':'fine','omg':'oh my god!','fam':'family','bruh':'brother',\n",
        "               'cud':'could','fud':'food'} ## Need a huge dictionary"
      ],
      "execution_count": 8,
      "outputs": []
    },
    {
      "cell_type": "code",
      "metadata": {
        "colab": {
          "base_uri": "https://localhost:8080/"
        },
        "id": "2hwWbK5_PBfJ",
        "outputId": "2c146b16-de8f-4161-ba73-3951df3ae146"
      },
      "source": [
        "for i in range(len(tweets)):\n",
        "    tweets[i] = [words for words in tweets[i] if words not in stop_words and words not in punctuation]\n",
        "    if i in to_change:\n",
        "      tweets[i] = to_change[i]\n",
        "type(tweets)\n",
        "tweets[:5]"
      ],
      "execution_count": 9,
      "outputs": [
        {
          "output_type": "execute_result",
          "data": {
            "text/plain": [
              "[['father', 'dysfunctional', 'selfish', 'drags', 'kids', 'dysfunctionun'],\n",
              " ['thanks',\n",
              "  'lyft',\n",
              "  'credit',\n",
              "  'use',\n",
              "  'cause',\n",
              "  'offer',\n",
              "  'wheelchair',\n",
              "  'vans',\n",
              "  'pdxisapointed',\n",
              "  'getthanked'],\n",
              " ['bihday', 'majesty'],\n",
              " ['model', 'love', 'take', 'time', 'urd', 'dddd'],\n",
              " ['factsguide', 'society', 'motivation']]"
            ]
          },
          "metadata": {},
          "execution_count": 9
        }
      ]
    },
    {
      "cell_type": "markdown",
      "metadata": {
        "id": "2V_2SQuool-s"
      },
      "source": [
        "5. Check out the top terms in the tweets:\n",
        "- First, get all the tokenized terms into one large list.\n",
        "- Use the counter and find the 10 most common terms."
      ]
    },
    {
      "cell_type": "code",
      "metadata": {
        "id": "CGY7Oi82PjoZ"
      },
      "source": [
        "new_list = list(itertools.chain.from_iterable(tweets))"
      ],
      "execution_count": 10,
      "outputs": []
    },
    {
      "cell_type": "code",
      "metadata": {
        "colab": {
          "base_uri": "https://localhost:8080/"
        },
        "id": "2kcZZzO3RGse",
        "outputId": "616664a7-1deb-4769-a86f-3311b9f86dda"
      },
      "source": [
        "new_list[:5]"
      ],
      "execution_count": 11,
      "outputs": [
        {
          "output_type": "execute_result",
          "data": {
            "text/plain": [
              "['father', 'dysfunctional', 'selfish', 'drags', 'kids']"
            ]
          },
          "metadata": {},
          "execution_count": 11
        }
      ]
    },
    {
      "cell_type": "code",
      "metadata": {
        "colab": {
          "base_uri": "https://localhost:8080/"
        },
        "id": "iHUkP8MNRKa_",
        "outputId": "fcc91607-23f8-49d2-a2f7-656dfcc2752a"
      },
      "source": [
        "counter.most_common(10)"
      ],
      "execution_count": 12,
      "outputs": [
        {
          "output_type": "execute_result",
          "data": {
            "text/plain": [
              "[]"
            ]
          },
          "metadata": {},
          "execution_count": 12
        }
      ]
    },
    {
      "cell_type": "code",
      "metadata": {
        "colab": {
          "base_uri": "https://localhost:8080/"
        },
        "id": "qSFocLxFRQ56",
        "outputId": "536d46b3-7102-4fa3-a587-20afa00dbcf1"
      },
      "source": [
        "tweets[:5]"
      ],
      "execution_count": 13,
      "outputs": [
        {
          "output_type": "execute_result",
          "data": {
            "text/plain": [
              "[['father', 'dysfunctional', 'selfish', 'drags', 'kids', 'dysfunctionun'],\n",
              " ['thanks',\n",
              "  'lyft',\n",
              "  'credit',\n",
              "  'use',\n",
              "  'cause',\n",
              "  'offer',\n",
              "  'wheelchair',\n",
              "  'vans',\n",
              "  'pdxisapointed',\n",
              "  'getthanked'],\n",
              " ['bihday', 'majesty'],\n",
              " ['model', 'love', 'take', 'time', 'urd', 'dddd'],\n",
              " ['factsguide', 'society', 'motivation']]"
            ]
          },
          "metadata": {},
          "execution_count": 13
        }
      ]
    },
    {
      "cell_type": "markdown",
      "metadata": {
        "id": "nKgqQGEzoy4e"
      },
      "source": [
        "6. Data formatting for predictive modeling:\n",
        "\n",
        "- Join the tokens back to form strings. This will be required for the vectorizers.\n",
        "- Assign x and y.\n",
        "- Perform train_test_split using sklearn."
      ]
    },
    {
      "cell_type": "code",
      "metadata": {
        "id": "twnNCf3RRVa4"
      },
      "source": [
        "for i in range(len(tweets)):\n",
        "  tweets[i] = ' '.join(tweets[i])"
      ],
      "execution_count": 14,
      "outputs": []
    },
    {
      "cell_type": "code",
      "metadata": {
        "colab": {
          "base_uri": "https://localhost:8080/"
        },
        "id": "jtaTzEubReBm",
        "outputId": "a9a9ee80-a339-4632-b852-c91ef087ba71"
      },
      "source": [
        "tweets[:5]"
      ],
      "execution_count": 15,
      "outputs": [
        {
          "output_type": "execute_result",
          "data": {
            "text/plain": [
              "['father dysfunctional selfish drags kids dysfunctionun',\n",
              " 'thanks lyft credit use cause offer wheelchair vans pdxisapointed getthanked',\n",
              " 'bihday majesty',\n",
              " 'model love take time urd dddd',\n",
              " 'factsguide society motivation']"
            ]
          },
          "metadata": {},
          "execution_count": 15
        }
      ]
    },
    {
      "cell_type": "code",
      "metadata": {
        "id": "uwDJxCCaR1jH"
      },
      "source": [
        "data['tweet'] = pd.DataFrame(tweets)"
      ],
      "execution_count": 16,
      "outputs": []
    },
    {
      "cell_type": "code",
      "metadata": {
        "colab": {
          "base_uri": "https://localhost:8080/",
          "height": 206
        },
        "id": "02nfJfsyR9BY",
        "outputId": "83d77f0b-d0c4-402f-e658-9e61bfa148d1"
      },
      "source": [
        "data.head()"
      ],
      "execution_count": 17,
      "outputs": [
        {
          "output_type": "execute_result",
          "data": {
            "text/html": [
              "<div>\n",
              "<style scoped>\n",
              "    .dataframe tbody tr th:only-of-type {\n",
              "        vertical-align: middle;\n",
              "    }\n",
              "\n",
              "    .dataframe tbody tr th {\n",
              "        vertical-align: top;\n",
              "    }\n",
              "\n",
              "    .dataframe thead th {\n",
              "        text-align: right;\n",
              "    }\n",
              "</style>\n",
              "<table border=\"1\" class=\"dataframe\">\n",
              "  <thead>\n",
              "    <tr style=\"text-align: right;\">\n",
              "      <th></th>\n",
              "      <th>id</th>\n",
              "      <th>label</th>\n",
              "      <th>tweet</th>\n",
              "    </tr>\n",
              "  </thead>\n",
              "  <tbody>\n",
              "    <tr>\n",
              "      <th>0</th>\n",
              "      <td>1</td>\n",
              "      <td>0</td>\n",
              "      <td>father dysfunctional selfish drags kids dysfun...</td>\n",
              "    </tr>\n",
              "    <tr>\n",
              "      <th>1</th>\n",
              "      <td>2</td>\n",
              "      <td>0</td>\n",
              "      <td>thanks lyft credit use cause offer wheelchair ...</td>\n",
              "    </tr>\n",
              "    <tr>\n",
              "      <th>2</th>\n",
              "      <td>3</td>\n",
              "      <td>0</td>\n",
              "      <td>bihday majesty</td>\n",
              "    </tr>\n",
              "    <tr>\n",
              "      <th>3</th>\n",
              "      <td>4</td>\n",
              "      <td>0</td>\n",
              "      <td>model love take time urd dddd</td>\n",
              "    </tr>\n",
              "    <tr>\n",
              "      <th>4</th>\n",
              "      <td>5</td>\n",
              "      <td>0</td>\n",
              "      <td>factsguide society motivation</td>\n",
              "    </tr>\n",
              "  </tbody>\n",
              "</table>\n",
              "</div>"
            ],
            "text/plain": [
              "   id  label                                              tweet\n",
              "0   1      0  father dysfunctional selfish drags kids dysfun...\n",
              "1   2      0  thanks lyft credit use cause offer wheelchair ...\n",
              "2   3      0                                     bihday majesty\n",
              "3   4      0                      model love take time urd dddd\n",
              "4   5      0                      factsguide society motivation"
            ]
          },
          "metadata": {},
          "execution_count": 17
        }
      ]
    },
    {
      "cell_type": "code",
      "metadata": {
        "colab": {
          "base_uri": "https://localhost:8080/"
        },
        "id": "_Mgvc5SeSQKg",
        "outputId": "dca2f2b8-6870-4878-f85c-7c7311335090"
      },
      "source": [
        "data.shape"
      ],
      "execution_count": 18,
      "outputs": [
        {
          "output_type": "execute_result",
          "data": {
            "text/plain": [
              "(31962, 3)"
            ]
          },
          "metadata": {},
          "execution_count": 18
        }
      ]
    },
    {
      "cell_type": "code",
      "metadata": {
        "colab": {
          "base_uri": "https://localhost:8080/"
        },
        "id": "BVtUDWVCSTHM",
        "outputId": "106cc830-d65c-4e29-d9ab-970d6e7036ef"
      },
      "source": [
        "data['tweet'].shape"
      ],
      "execution_count": 19,
      "outputs": [
        {
          "output_type": "execute_result",
          "data": {
            "text/plain": [
              "(31962,)"
            ]
          },
          "metadata": {},
          "execution_count": 19
        }
      ]
    },
    {
      "cell_type": "code",
      "metadata": {
        "colab": {
          "base_uri": "https://localhost:8080/"
        },
        "id": "Vfwx5WVRSVih",
        "outputId": "b5f2704d-da5a-4cb5-84d4-423f646267d8"
      },
      "source": [
        "features = data['tweet']\n",
        "target = data['label']\n",
        "print(features.shape)\n",
        "print(target.shape)"
      ],
      "execution_count": 20,
      "outputs": [
        {
          "output_type": "stream",
          "name": "stdout",
          "text": [
            "(31962,)\n",
            "(31962,)\n"
          ]
        }
      ]
    },
    {
      "cell_type": "code",
      "metadata": {
        "colab": {
          "base_uri": "https://localhost:8080/"
        },
        "id": "bAdIZnk-Sm06",
        "outputId": "9d6c90e7-34be-4a39-e3ea-449c4c89a11b"
      },
      "source": [
        "x_train, x_test, y_train, y_test = train_test_split(features, target, test_size = 0.3, random_state=0, shuffle = True, stratify=data['label'])\n",
        "print(x_train.shape)\n",
        "print(x_test.shape)\n",
        "print(y_train.shape)\n",
        "print(y_test.shape)"
      ],
      "execution_count": 21,
      "outputs": [
        {
          "output_type": "stream",
          "name": "stdout",
          "text": [
            "(22373,)\n",
            "(9589,)\n",
            "(22373,)\n",
            "(9589,)\n"
          ]
        }
      ]
    },
    {
      "cell_type": "markdown",
      "metadata": {
        "id": "Cfq1OaUGo8nt"
      },
      "source": [
        "7. We’ll use TF-IDF values for the terms as a feature to get into a vector space model.\n",
        "\n",
        "- Import TF-IDF  vectorizer from sklearn.\n",
        "- Instantiate with a maximum of 5000 terms in your vocabulary.\n",
        "- Fit and apply on the train set.\n",
        "- Apply on the test set."
      ]
    },
    {
      "cell_type": "code",
      "metadata": {
        "id": "yaUufqyuTDA-"
      },
      "source": [
        "vectorizer = TfidfVectorizer(max_features=5000, max_df=0.90, min_df=2,stop_words='english')"
      ],
      "execution_count": 22,
      "outputs": []
    },
    {
      "cell_type": "code",
      "metadata": {
        "id": "aW2XLx2yTjM9"
      },
      "source": [
        "x_train_vect = vectorizer.fit_transform(x_train)\n",
        "x_test_vect = vectorizer.fit_transform(x_test)\n",
        "y = data.loc[:,'label'].values"
      ],
      "execution_count": 23,
      "outputs": []
    },
    {
      "cell_type": "code",
      "metadata": {
        "colab": {
          "base_uri": "https://localhost:8080/"
        },
        "id": "cejJ0afHUMJV",
        "outputId": "b5612ab2-27df-4c37-ca02-7e7f08de871d"
      },
      "source": [
        "rf = Pipeline([('tfidf', TfidfVectorizer()), ('rf', RandomForestClassifier())])\n",
        "rf.fit(x_train, y_train)\n",
        "y_pred = rf.predict(x_test)\n",
        "print(pd.crosstab(y_test,y_pred,rownames=['Actual'],colnames=['Predicted']))\n",
        "print(classification_report(y_test, y_pred))"
      ],
      "execution_count": 24,
      "outputs": [
        {
          "output_type": "stream",
          "name": "stdout",
          "text": [
            "Predicted     0    1\n",
            "Actual              \n",
            "0          8885   31\n",
            "1           342  331\n",
            "              precision    recall  f1-score   support\n",
            "\n",
            "           0       0.96      1.00      0.98      8916\n",
            "           1       0.91      0.49      0.64       673\n",
            "\n",
            "    accuracy                           0.96      9589\n",
            "   macro avg       0.94      0.74      0.81      9589\n",
            "weighted avg       0.96      0.96      0.96      9589\n",
            "\n"
          ]
        }
      ]
    },
    {
      "cell_type": "markdown",
      "metadata": {
        "id": "Q6lQyDsdpFv3"
      },
      "source": [
        "8. Model building: Ordinary Logistic Regression\n",
        "- Instantiate Logistic Regression from sklearn with default parameters.\n",
        "- Fit into  the train data.\n",
        "- Make predictions for the train and the test set.\n",
        "\n",
        "9. Model evaluation: Accuracy, recall, and f_1 score.\n",
        "- Report the accuracy on the train set.\n",
        "- Report the recall on the train set: decent, high, or low.\n",
        "- Get the f1 score on the train set."
      ]
    },
    {
      "cell_type": "code",
      "metadata": {
        "id": "zg0CiU14jTlv"
      },
      "source": [
        "model = LogisticRegression().fit(x_train_vect, y_train)"
      ],
      "execution_count": 25,
      "outputs": []
    },
    {
      "cell_type": "code",
      "metadata": {
        "colab": {
          "base_uri": "https://localhost:8080/"
        },
        "id": "5nA7FvU2oCZS",
        "outputId": "711b8c11-ffc6-432a-a9c0-455ecb62d3b9"
      },
      "source": [
        "y_pred_logreg = model.predict(x_test_vect)\n",
        "print(pd.crosstab(y_test,y_pred_logreg,rownames=['Actual'],colnames=['Predicted']))\n",
        "print(classification_report(y_test, y_pred_logreg))"
      ],
      "execution_count": 26,
      "outputs": [
        {
          "output_type": "stream",
          "name": "stdout",
          "text": [
            "Predicted     0  1\n",
            "Actual            \n",
            "0          8912  4\n",
            "1           673  0\n",
            "              precision    recall  f1-score   support\n",
            "\n",
            "           0       0.93      1.00      0.96      8916\n",
            "           1       0.00      0.00      0.00       673\n",
            "\n",
            "    accuracy                           0.93      9589\n",
            "   macro avg       0.46      0.50      0.48      9589\n",
            "weighted avg       0.86      0.93      0.90      9589\n",
            "\n"
          ]
        }
      ]
    },
    {
      "cell_type": "code",
      "metadata": {
        "colab": {
          "base_uri": "https://localhost:8080/"
        },
        "id": "_SOYT6Y-jY2O",
        "outputId": "e2598a12-083e-4bce-e611-7dfbbf2031ed"
      },
      "source": [
        "Counter(y_train)"
      ],
      "execution_count": 27,
      "outputs": [
        {
          "output_type": "execute_result",
          "data": {
            "text/plain": [
              "Counter({0: 20804, 1: 1569})"
            ]
          },
          "metadata": {},
          "execution_count": 27
        }
      ]
    },
    {
      "cell_type": "code",
      "metadata": {
        "colab": {
          "base_uri": "https://localhost:8080/"
        },
        "id": "qK3AuZjim-9Y",
        "outputId": "7d6b897e-f94f-4aba-e511-a2d954cefd19"
      },
      "source": [
        "Counter(y_test)"
      ],
      "execution_count": 28,
      "outputs": [
        {
          "output_type": "execute_result",
          "data": {
            "text/plain": [
              "Counter({0: 8916, 1: 673})"
            ]
          },
          "metadata": {},
          "execution_count": 28
        }
      ]
    },
    {
      "cell_type": "code",
      "metadata": {
        "colab": {
          "base_uri": "https://localhost:8080/"
        },
        "id": "GPAU56pHnIHM",
        "outputId": "e0ee4270-805e-479a-8cc1-b4098e754461"
      },
      "source": [
        "Counter(data['label'])"
      ],
      "execution_count": 29,
      "outputs": [
        {
          "output_type": "execute_result",
          "data": {
            "text/plain": [
              "Counter({0: 29720, 1: 2242})"
            ]
          },
          "metadata": {},
          "execution_count": 29
        }
      ]
    },
    {
      "cell_type": "code",
      "metadata": {
        "colab": {
          "base_uri": "https://localhost:8080/",
          "height": 265
        },
        "id": "m-cdRtXEqA8x",
        "outputId": "aeab7c58-d7b1-4331-dee4-ab6d7b8a8666"
      },
      "source": [
        "def generate_auc_roc_curve(clf, x_test):\n",
        "  y_pred_proba = clf.predict_proba(x_test_vect)[:, 1]\n",
        "  fpr, tpr, thresholds = roc_curve(y_test, y_pred_proba)\n",
        "  auc = roc_auc_score(y_test, y_pred_proba)\n",
        "  plt.plot(fpr, tpr, label = \"AUC ROC Curve with Area under the curve = \"+str(auc))\n",
        "  plt.legend(loc=4)\n",
        "  plt.show()\n",
        "  pass\n",
        "\n",
        "generate_auc_roc_curve(model, x_test)"
      ],
      "execution_count": 30,
      "outputs": [
        {
          "output_type": "display_data",
          "data": {
            "image/png": "[encoded data removed]",
            "text/plain": [
              "<Figure size 432x288 with 1 Axes>"
            ]
          },
          "metadata": {
            "needs_background": "light"
          }
        }
      ]
    },
    {
      "cell_type": "markdown",
      "metadata": {
        "id": "q6LmQwhIpbFj"
      },
      "source": [
        "10. Looks like you need to adjust the class imbalance, as the model seems to focus on the 0s.\n",
        "- Adjust the appropriate class in the LogisticRegression model."
      ]
    },
    {
      "cell_type": "code",
      "metadata": {
        "id": "RdvDg4ettJoG"
      },
      "source": [
        "unique_classes = target.unique()\n",
        "\n",
        "out_dict = {}\n",
        "for classes in unique_classes:\n",
        "  out_dict[classes] = data.shape[0]/((data.loc[data['label'] == classes].shape[0])*len(unique_classes))"
      ],
      "execution_count": 31,
      "outputs": []
    },
    {
      "cell_type": "code",
      "metadata": {
        "colab": {
          "base_uri": "https://localhost:8080/"
        },
        "id": "poElVM6iuu1R",
        "outputId": "8470bc25-002a-4523-a787-fc8a23e9edf3"
      },
      "source": [
        "out_dict"
      ],
      "execution_count": 32,
      "outputs": [
        {
          "output_type": "execute_result",
          "data": {
            "text/plain": [
              "{0: 0.5377187079407806, 1: 7.128010704727921}"
            ]
          },
          "metadata": {},
          "execution_count": 32
        }
      ]
    },
    {
      "cell_type": "markdown",
      "metadata": {
        "id": "mPKNZz2ypq50"
      },
      "source": [
        "11. Train again with the adjustment and evaluate.\n",
        "- Train the model on the train set.\n",
        "- Evaluate the predictions on the train set: accuracy, recall, and f_1 score."
      ]
    },
    {
      "cell_type": "code",
      "metadata": {
        "id": "aY-YLqykvNab"
      },
      "source": [
        "clf = LogisticRegression(class_weight='balanced').fit(x_train_vect, y_train)"
      ],
      "execution_count": 33,
      "outputs": []
    },
    {
      "cell_type": "code",
      "metadata": {
        "id": "aG_HaatQvcsa"
      },
      "source": [
        "y_test_pred = clf.predict(x_test_vect)"
      ],
      "execution_count": 34,
      "outputs": []
    },
    {
      "cell_type": "code",
      "metadata": {
        "colab": {
          "base_uri": "https://localhost:8080/"
        },
        "id": "ixJdbv3Pv3M1",
        "outputId": "3ef074ef-f76d-4b87-8c68-3976fc45ce38"
      },
      "source": [
        "print(pd.crosstab(y_test,y_test_pred,rownames=['Actual'],colnames=['Predicted']))\n",
        "print(classification_report(y_test, y_test_pred))"
      ],
      "execution_count": 35,
      "outputs": [
        {
          "output_type": "stream",
          "name": "stdout",
          "text": [
            "Predicted     0     1\n",
            "Actual               \n",
            "0          7661  1255\n",
            "1           597    76\n",
            "              precision    recall  f1-score   support\n",
            "\n",
            "           0       0.93      0.86      0.89      8916\n",
            "           1       0.06      0.11      0.08       673\n",
            "\n",
            "    accuracy                           0.81      9589\n",
            "   macro avg       0.49      0.49      0.48      9589\n",
            "weighted avg       0.87      0.81      0.83      9589\n",
            "\n"
          ]
        }
      ]
    },
    {
      "cell_type": "code",
      "metadata": {
        "colab": {
          "base_uri": "https://localhost:8080/",
          "height": 265
        },
        "id": "oz54qcM_wZNF",
        "outputId": "ff3f38ec-38f6-4e0f-fdd0-cddce96fa549"
      },
      "source": [
        "generate_auc_roc_curve(clf, x_test)"
      ],
      "execution_count": 36,
      "outputs": [
        {
          "output_type": "display_data",
          "data": {
            "image/png": "[encoded data removed]",
            "text/plain": [
              "<Figure size 432x288 with 1 Axes>"
            ]
          },
          "metadata": {
            "needs_background": "light"
          }
        }
      ]
    },
    {
      "cell_type": "markdown",
      "metadata": {
        "id": "P9Pup2yap1Ba"
      },
      "source": [
        "12. Regularization and Hyperparameter tuning:\n",
        "- Import GridSearch and StratifiedKFold because of class imbalance.\n",
        "- Provide the parameter grid to choose for ‘C’ and ‘penalty’ parameters.\n",
        "- Use a balanced class weight while instantiating the logistic regression."
      ]
    },
    {
      "cell_type": "code",
      "metadata": {
        "id": "QzQe7kmKwqhg"
      },
      "source": [
        "grid = GridSearchCV(\n",
        "              estimator = LogisticRegression(class_weight='balanced', max_iter=500),\n",
        "              param_grid = {'C':[0.1, 1, 10, 100, 1000], \n",
        "                            'class_weight': [{0: x, 1: 1.0-x} for x in np.linspace(0.05, 0.95, 20)]},\n",
        "              cv= StratifiedKFold()\n",
        "            )\n",
        "\n",
        "grid_result = grid.fit(x_train_vect, y_train)"
      ],
      "execution_count": 37,
      "outputs": []
    },
    {
      "cell_type": "code",
      "metadata": {
        "colab": {
          "base_uri": "https://localhost:8080/"
        },
        "id": "l6ODJ_PEFx8Q",
        "outputId": "a9e481fd-a00f-42e3-a3ef-d84d994940b0"
      },
      "source": [
        "print('Best Parameters: ', grid_result.best_params_)\n"
      ],
      "execution_count": 38,
      "outputs": [
        {
          "output_type": "stream",
          "name": "stdout",
          "text": [
            "Best Parameters:  {'C': 10, 'class_weight': {0: 0.381578947368421, 1: 0.618421052631579}}\n"
          ]
        }
      ]
    },
    {
      "cell_type": "code",
      "metadata": {
        "colab": {
          "base_uri": "https://localhost:8080/"
        },
        "id": "WHqjQeeoIFqf",
        "outputId": "8a4f66fa-8df1-470e-ecda-b9879130edf1"
      },
      "source": [
        "print(grid_result.best_estimator_)"
      ],
      "execution_count": 39,
      "outputs": [
        {
          "output_type": "stream",
          "name": "stdout",
          "text": [
            "LogisticRegression(C=10,\n",
            "                   class_weight={0: 0.381578947368421, 1: 0.618421052631579},\n",
            "                   dual=False, fit_intercept=True, intercept_scaling=1,\n",
            "                   l1_ratio=None, max_iter=500, multi_class='auto', n_jobs=None,\n",
            "                   penalty='l2', random_state=None, solver='lbfgs', tol=0.0001,\n",
            "                   verbose=0, warm_start=False)\n"
          ]
        }
      ]
    },
    {
      "cell_type": "markdown",
      "metadata": {
        "id": "Ec2S5elhp_cs"
      },
      "source": [
        "13. Find the parameters with the best recall in cross validation.\n",
        "- Choose ‘recall’ as the metric for scoring.\n",
        "- Choose stratified 4 fold cross validation scheme.\n",
        "- Fit into  the train set."
      ]
    },
    {
      "cell_type": "code",
      "metadata": {
        "id": "qYjBv8jiIg-5"
      },
      "source": [
        "model = LogisticRegression(C=10,\n",
        "                   class_weight={0: 0.5377187079407806, 1: 16.128010704727921},\n",
        "                   dual=False, fit_intercept=True, intercept_scaling=1,\n",
        "                   l1_ratio=None, max_iter=500, multi_class='auto', n_jobs=None,\n",
        "                   penalty='l2', random_state=None, solver='lbfgs', tol=0.0001,\n",
        "                   verbose=0, warm_start=False)"
      ],
      "execution_count": 40,
      "outputs": []
    },
    {
      "cell_type": "code",
      "metadata": {
        "colab": {
          "base_uri": "https://localhost:8080/"
        },
        "id": "PSzvB7zZK3cu",
        "outputId": "8549ab36-8aac-47c4-da9d-b8d44484e7f9"
      },
      "source": [
        "model.fit(x_train_vect, y_train)"
      ],
      "execution_count": 41,
      "outputs": [
        {
          "output_type": "execute_result",
          "data": {
            "text/plain": [
              "LogisticRegression(C=10,\n",
              "                   class_weight={0: 0.5377187079407806, 1: 16.12801070472792},\n",
              "                   dual=False, fit_intercept=True, intercept_scaling=1,\n",
              "                   l1_ratio=None, max_iter=500, multi_class='auto', n_jobs=None,\n",
              "                   penalty='l2', random_state=None, solver='lbfgs', tol=0.0001,\n",
              "                   verbose=0, warm_start=False)"
            ]
          },
          "metadata": {},
          "execution_count": 41
        }
      ]
    },
    {
      "cell_type": "code",
      "metadata": {
        "id": "tevmS4sFK6tm"
      },
      "source": [
        "y_pred = model.predict(x_test_vect)"
      ],
      "execution_count": 42,
      "outputs": []
    },
    {
      "cell_type": "code",
      "metadata": {
        "colab": {
          "base_uri": "https://localhost:8080/"
        },
        "id": "hhPgbUCyLIRa",
        "outputId": "a0d939f7-188f-47c8-d7dc-ddc044afdbf7"
      },
      "source": [
        "print(pd.crosstab(y_test,y_pred,rownames=['Actual'],colnames=['Predicted']))\n",
        "print(classification_report(y_test, y_pred))"
      ],
      "execution_count": 43,
      "outputs": [
        {
          "output_type": "stream",
          "name": "stdout",
          "text": [
            "Predicted     0     1\n",
            "Actual               \n",
            "0          7219  1697\n",
            "1           572   101\n",
            "              precision    recall  f1-score   support\n",
            "\n",
            "           0       0.93      0.81      0.86      8916\n",
            "           1       0.06      0.15      0.08       673\n",
            "\n",
            "    accuracy                           0.76      9589\n",
            "   macro avg       0.49      0.48      0.47      9589\n",
            "weighted avg       0.87      0.76      0.81      9589\n",
            "\n"
          ]
        }
      ]
    },
    {
      "cell_type": "code",
      "metadata": {
        "id": "7jc-oeGuMOgI"
      },
      "source": [
        "skf = StratifiedKFold(n_splits=4)"
      ],
      "execution_count": 44,
      "outputs": []
    },
    {
      "cell_type": "code",
      "metadata": {
        "colab": {
          "base_uri": "https://localhost:8080/"
        },
        "id": "kVrakdIreNYC",
        "outputId": "dde4532e-9fa2-44c3-ba51-b1f43b524c20"
      },
      "source": [
        "for i in skf.split(x_train_vect, y_train):\n",
        "    print(i)"
      ],
      "execution_count": 45,
      "outputs": [
        {
          "output_type": "stream",
          "name": "stdout",
          "text": [
            "(array([ 5577,  5578,  5579, ..., 22370, 22371, 22372]), array([   0,    1,    2, ..., 5813, 5818, 5819]))\n",
            "(array([    0,     1,     2, ..., 22370, 22371, 22372]), array([ 5577,  5578,  5579, ..., 11467, 11494, 11505]))\n",
            "(array([    0,     1,     2, ..., 22370, 22371, 22372]), array([11160, 11161, 11162, ..., 16962, 16967, 16969]))\n",
            "(array([    0,     1,     2, ..., 16962, 16967, 16969]), array([16763, 16764, 16765, ..., 22370, 22371, 22372]))\n"
          ]
        }
      ]
    },
    {
      "cell_type": "code",
      "metadata": {
        "colab": {
          "base_uri": "https://localhost:8080/"
        },
        "id": "Yay09NaXeRVD",
        "outputId": "35f6be8a-c28d-43e8-fd46-ee60f68b52c1"
      },
      "source": [
        "cross_val_score(model, x_train_vect, y_train, scoring='recall').mean()"
      ],
      "execution_count": 46,
      "outputs": [
        {
          "output_type": "execute_result",
          "data": {
            "text/plain": [
              "0.7552756354164547"
            ]
          },
          "metadata": {},
          "execution_count": 46
        }
      ]
    },
    {
      "cell_type": "code",
      "metadata": {
        "id": "3oZAEXsFV9IE"
      },
      "source": [
        "model = RandomForestClassifier(class_weight={0: 0.5377187079407806, 1: 16.128010704727921},random_state=0)"
      ],
      "execution_count": 47,
      "outputs": []
    },
    {
      "cell_type": "markdown",
      "metadata": {
        "id": "v28uC8-TZAco"
      },
      "source": [
        "14. Best Parameters are:\n",
        "  - Using LogisticRegression():\n",
        "          LogisticRegression(C=10,\n",
        "                   class_weight={0: 0.5377187079407806, 1: 16.12801070472792},\n",
        "                   dual=False, fit_intercept=True, intercept_scaling=1,\n",
        "                   l1_ratio=None, max_iter=100, multi_class='auto', n_jobs=None,\n",
        "                   penalty='l2', random_state=None, solver='lbfgs', tol=0.0001,\n",
        "                   verbose=0, warm_start=False)\n",
        "  - Using RandomForestClassifier():\n",
        "          RandomForestClassifier(bootstrap=True, ccp_alpha=0.0,\n",
        "                       class_weight={0: 0.5377187079407806,\n",
        "                                     1: 16.12801070472792},\n",
        "                       criterion='gini', max_depth=None, max_features='auto',\n",
        "                       max_leaf_nodes=None, max_samples=None,\n",
        "                       min_impurity_decrease=0.0, min_impurity_split=None,\n",
        "                       min_samples_leaf=1, min_samples_split=2,\n",
        "                       min_weight_fraction_leaf=0.0, n_estimators=100,\n",
        "                       n_jobs=None, oob_score=False, random_state=0, verbose=0,\n",
        "                       warm_start=False)"
      ]
    },
    {
      "cell_type": "markdown",
      "metadata": {
        "id": "knLXyIrfqSp2"
      },
      "source": [
        "15. Predict and evaluate using the best estimator.\n",
        "- Use the best estimator from the grid search to make predictions on the test set.\n",
        "- What is the recall on the test set for the toxic comments?\n",
        "- What is the f_1 score?"
      ]
    },
    {
      "cell_type": "code",
      "metadata": {
        "colab": {
          "base_uri": "https://localhost:8080/"
        },
        "id": "3Goz7EaJWTMm",
        "outputId": "c0845ddf-136d-47fd-a436-185e60fef184"
      },
      "source": [
        "model.fit(x_train_vect, y_train)"
      ],
      "execution_count": 48,
      "outputs": [
        {
          "output_type": "execute_result",
          "data": {
            "text/plain": [
              "RandomForestClassifier(bootstrap=True, ccp_alpha=0.0,\n",
              "                       class_weight={0: 0.5377187079407806,\n",
              "                                     1: 16.12801070472792},\n",
              "                       criterion='gini', max_depth=None, max_features='auto',\n",
              "                       max_leaf_nodes=None, max_samples=None,\n",
              "                       min_impurity_decrease=0.0, min_impurity_split=None,\n",
              "                       min_samples_leaf=1, min_samples_split=2,\n",
              "                       min_weight_fraction_leaf=0.0, n_estimators=100,\n",
              "                       n_jobs=None, oob_score=False, random_state=0, verbose=0,\n",
              "                       warm_start=False)"
            ]
          },
          "metadata": {},
          "execution_count": 48
        }
      ]
    },
    {
      "cell_type": "code",
      "metadata": {
        "id": "WEVGOfaAWtrW"
      },
      "source": [
        "y_pred = model.predict(x_test_vect)"
      ],
      "execution_count": 49,
      "outputs": []
    },
    {
      "cell_type": "code",
      "metadata": {
        "colab": {
          "base_uri": "https://localhost:8080/"
        },
        "id": "xxXb7fqOW0ib",
        "outputId": "b6eb36e7-7489-4ab4-c7ca-47d5274a6cfc"
      },
      "source": [
        "print(pd.crosstab(y_test,y_pred,rownames=['Actual'],colnames=['Predicted']))\n",
        "print(classification_report(y_test, y_pred))"
      ],
      "execution_count": 50,
      "outputs": [
        {
          "output_type": "stream",
          "name": "stdout",
          "text": [
            "Predicted     0     1\n",
            "Actual               \n",
            "0          7111  1805\n",
            "1           572   101\n",
            "              precision    recall  f1-score   support\n",
            "\n",
            "           0       0.93      0.80      0.86      8916\n",
            "           1       0.05      0.15      0.08       673\n",
            "\n",
            "    accuracy                           0.75      9589\n",
            "   macro avg       0.49      0.47      0.47      9589\n",
            "weighted avg       0.86      0.75      0.80      9589\n",
            "\n"
          ]
        }
      ]
    },
    {
      "cell_type": "markdown",
      "metadata": {
        "id": "3F4roH2NZcVR"
      },
      "source": [
        "Recall on Label = 1 (Toxic Tweets) = 15%, and\n",
        "F1_score = 92%"
      ]
    }
  ]
}